{
 "cells": [
  {
   "cell_type": "code",
   "execution_count": 37,
   "metadata": {},
   "outputs": [],
   "source": [
    "import os\n",
    "import requests\n",
    "from urllib.parse import urljoin\n",
    "from bs4 import BeautifulSoup\n",
    "import PyPDF2\n",
    "from PyPDF2 import PdfFileMerger\n",
    "\n",
    "os.chdir('/Users/yd/Documents/小牧人/BibleStudy')\n",
    "folder_location = r'/Users/yd/Documents/小牧人/BibleStudy'\n",
    "\n",
    "os.chdir('/Users/yd/Documents/小牧人/BibleStudy')\n",
    "url = \"http://www.dcfc.org/wp/LittleShepherd/LittleShepherd/BibleStudy.html\"\n",
    "\n",
    "response = requests.get(url)\n",
    "soup= BeautifulSoup(response.text, \"html.parser\")     \n",
    "for link in soup.select(\"a[href$='.pdf']\"):\n",
    "    #Name the pdf files using the last portion of each link which are unique in this case\n",
    "    filename = os.path.join(folder_location,link['href'].split('/')[-1])\n",
    "    with open(filename, 'wb') as f:\n",
    "        f.write(requests.get(urljoin(url,link['href'])).content)\n",
    "\n",
    "pdfs = ['BibleStudy 001.pdf', 'BibleStudy 002.pdf', 'BibleStudy 003.pdf', 'BibleStudy 004.pdf', 'BibleStudy 005.pdf', 'BibleStudy 006.pdf', 'BibleStudy 007.pdf', 'BibleStudy 008.pdf', 'BibleStudy 009.pdf', 'BibleStudy 010.pdf', 'BibleStudy 011.pdf', 'BibleStudy 012.pdf']\n",
    "merger = PdfFileMerger()\n",
    "\n",
    "for pdf in pdfs:\n",
    "    merger.append(pdf)\n",
    "\n",
    "merger.write(\"BibleStudy.pdf\")\n",
    "merger.close()"
   ]
  },
  {
   "cell_type": "code",
   "execution_count": 42,
   "metadata": {},
   "outputs": [
    {
     "ename": "NameError",
     "evalue": "name 'nb_conda' is not defined",
     "output_type": "error",
     "traceback": [
      "\u001b[0;31m---------------------------------------------------------------------------\u001b[0m",
      "\u001b[0;31mNameError\u001b[0m                                 Traceback (most recent call last)",
      "\u001b[0;32m<ipython-input-42-892468d2cf3e>\u001b[0m in \u001b[0;36m<module>\u001b[0;34m\u001b[0m\n\u001b[0;32m----> 1\u001b[0;31m \u001b[0mnb_conda\u001b[0m\u001b[0;34m.\u001b[0m\u001b[0mlist\u001b[0m\u001b[0;34m(\u001b[0m\u001b[0;34m)\u001b[0m\u001b[0;34m\u001b[0m\u001b[0;34m\u001b[0m\u001b[0m\n\u001b[0m",
      "\u001b[0;31mNameError\u001b[0m: name 'nb_conda' is not defined"
     ]
    }
   ],
   "source": []
  },
  {
   "cell_type": "code",
   "execution_count": 30,
   "metadata": {},
   "outputs": [],
   "source": [
    "import PyPDF2\n",
    "from PyPDF2 import PdfFileMerger\n",
    "\n",
    "pdfs = ['BibleStudy 001.pdf', 'BibleStudy 002.pdf', 'BibleStudy 003.pdf', 'BibleStudy 004.pdf', 'BibleStudy 005.pdf', 'BibleStudy 006.pdf', 'BibleStudy 007.pdf', 'BibleStudy 008.pdf', 'BibleStudy 009.pdf', 'BibleStudy 010.pdf', 'BibleStudy 011.pdf', 'BibleStudy 012.pdf']\n",
    "\n",
    "merger = PdfFileMerger()\n",
    "\n",
    "for pdf in pdfs:\n",
    "    merger.append(pdf)\n",
    "\n",
    "merger.write(\"result.pdf\")\n",
    "merger.close()"
   ]
  },
  {
   "cell_type": "code",
   "execution_count": 12,
   "metadata": {},
   "outputs": [],
   "source": [
    "os.mkdir('/Users/yd/Documents/小牧人/ChurchServing')\n",
    "folder_location = r'/Users/yd/Documents/小牧人/ChurchServing'\n",
    "\n",
    "os.chdir('/Users/yd/Documents/小牧人/ChurchServing')\n",
    "url = \"http://www.dcfc.org/wp/LittleShepherd/LittleShepherd/ChurchServing.html\"\n",
    "\n",
    "response = requests.get(url)\n",
    "soup= BeautifulSoup(response.text, \"html.parser\")     \n",
    "for link in soup.select(\"a[href$='.pdf']\"):\n",
    "    #Name the pdf files using the last portion of each link which are unique in this case\n",
    "    filename = os.path.join(folder_location,link['href'].split('/')[-1])\n",
    "    with open(filename, 'wb') as f:\n",
    "        f.write(requests.get(urljoin(url,link['href'])).content)"
   ]
  },
  {
   "cell_type": "code",
   "execution_count": 13,
   "metadata": {},
   "outputs": [],
   "source": [
    "os.mkdir('/Users/yd/Documents/小牧人/LifeOfChrist')\n",
    "folder_location = r'/Users/yd/Documents/小牧人/LifeOfChrist'\n",
    "\n",
    "os.chdir('/Users/yd/Documents/小牧人/LifeOfChrist')\n",
    "url = \"http://www.dcfc.org/wp/LittleShepherd/LittleShepherd/LifeOfChrist.html\"\n",
    "\n",
    "response = requests.get(url)\n",
    "soup= BeautifulSoup(response.text, \"html.parser\")     \n",
    "for link in soup.select(\"a[href$='.pdf']\"):\n",
    "    #Name the pdf files using the last portion of each link which are unique in this case\n",
    "    filename = os.path.join(folder_location,link['href'].split('/')[-1])\n",
    "    with open(filename, 'wb') as f:\n",
    "        f.write(requests.get(urljoin(url,link['href'])).content)"
   ]
  },
  {
   "cell_type": "code",
   "execution_count": 14,
   "metadata": {},
   "outputs": [],
   "source": [
    "os.mkdir('/Users/yd/Documents/小牧人/NewTestament')\n",
    "folder_location = r'/Users/yd/Documents/小牧人/NewTestament'\n",
    "\n",
    "os.chdir('/Users/yd/Documents/小牧人/NewTestament')\n",
    "url = \"http://www.dcfc.org/wp/LittleShepherd/LittleShepherd/NewTestament.html\"\n",
    "\n",
    "response = requests.get(url)\n",
    "soup= BeautifulSoup(response.text, \"html.parser\")     \n",
    "for link in soup.select(\"a[href$='.pdf']\"):\n",
    "    #Name the pdf files using the last portion of each link which are unique in this case\n",
    "    filename = os.path.join(folder_location,link['href'].split('/')[-1])\n",
    "    with open(filename, 'wb') as f:\n",
    "        f.write(requests.get(urljoin(url,link['href'])).content)"
   ]
  },
  {
   "cell_type": "code",
   "execution_count": 15,
   "metadata": {},
   "outputs": [],
   "source": [
    "os.mkdir('/Users/yd/Documents/小牧人/OldTestament')\n",
    "folder_location = r'/Users/yd/Documents/小牧人/OldTestament'\n",
    "\n",
    "os.chdir('/Users/yd/Documents/小牧人/NewTestament')\n",
    "url = \"http://www.dcfc.org/wp/LittleShepherd/LittleShepherd/OldTestament.html\"\n",
    "\n",
    "response = requests.get(url)\n",
    "soup= BeautifulSoup(response.text, \"html.parser\")     \n",
    "for link in soup.select(\"a[href$='.pdf']\"):\n",
    "    #Name the pdf files using the last portion of each link which are unique in this case\n",
    "    filename = os.path.join(folder_location,link['href'].split('/')[-1])\n",
    "    with open(filename, 'wb') as f:\n",
    "        f.write(requests.get(urljoin(url,link['href'])).content)"
   ]
  },
  {
   "cell_type": "code",
   "execution_count": 16,
   "metadata": {},
   "outputs": [],
   "source": [
    "os.mkdir('/Users/yd/Documents/小牧人/Prayer')\n",
    "folder_location = r'/Users/yd/Documents/小牧人/Prayer'\n",
    "\n",
    "os.chdir('/Users/yd/Documents/小牧人/Prayer')\n",
    "url = \"http://www.dcfc.org/wp/LittleShepherd/LittleShepherd/Prayer.html\"\n",
    "\n",
    "response = requests.get(url)\n",
    "soup= BeautifulSoup(response.text, \"html.parser\")     \n",
    "for link in soup.select(\"a[href$='.pdf']\"):\n",
    "    #Name the pdf files using the last portion of each link which are unique in this case\n",
    "    filename = os.path.join(folder_location,link['href'].split('/')[-1])\n",
    "    with open(filename, 'wb') as f:\n",
    "        f.write(requests.get(urljoin(url,link['href'])).content)"
   ]
  },
  {
   "cell_type": "code",
   "execution_count": 17,
   "metadata": {},
   "outputs": [],
   "source": [
    "os.mkdir('/Users/yd/Documents/小牧人/Spiritual')\n",
    "folder_location = r'/Users/yd/Documents/小牧人/Spiritual'\n",
    "\n",
    "os.chdir('/Users/yd/Documents/小牧人/Spiritual')\n",
    "url = \"http://www.dcfc.org/wp/LittleShepherd/LittleShepherd/Spiritual.html\"\n",
    "\n",
    "response = requests.get(url)\n",
    "soup= BeautifulSoup(response.text, \"html.parser\")     \n",
    "for link in soup.select(\"a[href$='.pdf']\"):\n",
    "    #Name the pdf files using the last portion of each link which are unique in this case\n",
    "    filename = os.path.join(folder_location,link['href'].split('/')[-1])\n",
    "    with open(filename, 'wb') as f:\n",
    "        f.write(requests.get(urljoin(url,link['href'])).content)"
   ]
  },
  {
   "cell_type": "code",
   "execution_count": 18,
   "metadata": {},
   "outputs": [],
   "source": [
    "os.mkdir('/Users/yd/Documents/小牧人/TeachingPreaching')\n",
    "folder_location = r'/Users/yd/Documents/小牧人/TeachingPreaching'\n",
    "\n",
    "os.chdir('/Users/yd/Documents/小牧人/TeachingPreaching')\n",
    "url = \"http://www.dcfc.org/wp/LittleShepherd/LittleShepherd/TeachingPreaching.html\"\n",
    "\n",
    "response = requests.get(url)\n",
    "soup= BeautifulSoup(response.text, \"html.parser\")     \n",
    "for link in soup.select(\"a[href$='.pdf']\"):\n",
    "    #Name the pdf files using the last portion of each link which are unique in this case\n",
    "    filename = os.path.join(folder_location,link['href'].split('/')[-1])\n",
    "    with open(filename, 'wb') as f:\n",
    "        f.write(requests.get(urljoin(url,link['href'])).content)"
   ]
  },
  {
   "cell_type": "code",
   "execution_count": 19,
   "metadata": {},
   "outputs": [],
   "source": [
    "os.mkdir('/Users/yd/Documents/小牧人/Theology')\n",
    "folder_location = r'/Users/yd/Documents/小牧人/Theology'\n",
    "\n",
    "os.chdir('/Users/yd/Documents/小牧人/Theology')\n",
    "url = \"http://www.dcfc.org/wp/LittleShepherd/LittleShepherd/Theology.html\"\n",
    "\n",
    "response = requests.get(url)\n",
    "soup= BeautifulSoup(response.text, \"html.parser\")     \n",
    "for link in soup.select(\"a[href$='.pdf']\"):\n",
    "    #Name the pdf files using the last portion of each link which are unique in this case\n",
    "    filename = os.path.join(folder_location,link['href'].split('/')[-1])\n",
    "    with open(filename, 'wb') as f:\n",
    "        f.write(requests.get(urljoin(url,link['href'])).content)"
   ]
  },
  {
   "cell_type": "code",
   "execution_count": null,
   "metadata": {},
   "outputs": [],
   "source": []
  }
 ],
 "metadata": {
  "kernelspec": {
   "display_name": "Python 3",
   "language": "python",
   "name": "python3"
  },
  "language_info": {
   "codemirror_mode": {
    "name": "ipython",
    "version": 3
   },
   "file_extension": ".py",
   "mimetype": "text/x-python",
   "name": "python",
   "nbconvert_exporter": "python",
   "pygments_lexer": "ipython3",
   "version": "3.7.1"
  }
 },
 "nbformat": 4,
 "nbformat_minor": 2
}
