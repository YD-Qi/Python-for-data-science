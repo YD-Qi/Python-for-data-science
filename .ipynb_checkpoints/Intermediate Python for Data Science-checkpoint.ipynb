{
 "cells": [
  {
   "cell_type": "markdown",
   "metadata": {},
   "source": [
    "## Intermediate python\n",
    "Learn to visualize real data\n",
    " with matplotlib's functions and get to know new data structures such as the dictionary and the Pandas \n",
    " DataFrame. After covering key concepts such as boolean logic, control flow and loops in Python, \n",
    " you're ready to blend together everything you've learned to solve a case study using hacker statistics."
   ]
  },
  {
   "cell_type": "markdown",
   "metadata": {},
   "source": [
    "## Basic plots with matplotlib\n",
    "        "
   ]
  },
  {
   "cell_type": "code",
   "execution_count": 12,
   "metadata": {},
   "outputs": [
    {
     "data": {
      "text/plain": [
       "'/Users/yd/Documents/Python/Python Scripts'"
      ]
     },
     "execution_count": 12,
     "metadata": {},
     "output_type": "execute_result"
    }
   ],
   "source": [
    "import os\n",
    "os.getcwd()"
   ]
  },
  {
   "cell_type": "code",
   "execution_count": 2,
   "metadata": {},
   "outputs": [],
   "source": [
    "# Line plot (1)\n",
    "# With matplotlib, you can create a bunch of different plots in Python. \n",
    "# The most basic plot is the line plot. A general recipe is given here.\n",
    "\n",
    "import matplotlib.pyplot as plt\n",
    "plt.plot(x,y)\n",
    "plt.show()"
   ]
  },
  {
   "cell_type": "code",
   "execution_count": 3,
   "metadata": {},
   "outputs": [
    {
     "ename": "NameError",
     "evalue": "name 'year' is not defined",
     "output_type": "error",
     "traceback": [
      "\u001b[0;31m---------------------------------------------------------------------------\u001b[0m",
      "\u001b[0;31mNameError\u001b[0m                                 Traceback (most recent call last)",
      "\u001b[0;32m<ipython-input-3-6bccd3161369>\u001b[0m in \u001b[0;36m<module>\u001b[0;34m\u001b[0m\n\u001b[1;32m      2\u001b[0m \u001b[0;34m\u001b[0m\u001b[0m\n\u001b[1;32m      3\u001b[0m \u001b[0;31m# Print the last item from year and pop\u001b[0m\u001b[0;34m\u001b[0m\u001b[0;34m\u001b[0m\u001b[0;34m\u001b[0m\u001b[0m\n\u001b[0;32m----> 4\u001b[0;31m \u001b[0mprint\u001b[0m\u001b[0;34m(\u001b[0m\u001b[0myear\u001b[0m\u001b[0;34m[\u001b[0m\u001b[0;34m-\u001b[0m\u001b[0;36m1\u001b[0m\u001b[0;34m]\u001b[0m\u001b[0;34m)\u001b[0m\u001b[0;34m\u001b[0m\u001b[0;34m\u001b[0m\u001b[0m\n\u001b[0m\u001b[1;32m      5\u001b[0m \u001b[0mprint\u001b[0m\u001b[0;34m(\u001b[0m\u001b[0mpop\u001b[0m\u001b[0;34m[\u001b[0m\u001b[0;34m-\u001b[0m\u001b[0;36m1\u001b[0m\u001b[0;34m]\u001b[0m\u001b[0;34m)\u001b[0m\u001b[0;34m\u001b[0m\u001b[0;34m\u001b[0m\u001b[0m\n\u001b[1;32m      6\u001b[0m \u001b[0;34m\u001b[0m\u001b[0m\n",
      "\u001b[0;31mNameError\u001b[0m: name 'year' is not defined"
     ]
    }
   ],
   "source": [
    "# need data\n",
    "\n",
    "# Print the last item from year and pop\n",
    "print(year[-1])\n",
    "print(pop[-1])\n",
    "\n",
    "\n",
    "# Import matplotlib.pyplot as plt\n",
    "import matplotlib.pyplot as plt\n",
    "\n",
    "# Make a line plot: year on the x-axis, pop on the y-axis\n",
    "plt.plot(year, pop)\n",
    "\n",
    "# Display the plot with plt.show()\n",
    "plt.show()"
   ]
  },
  {
   "cell_type": "code",
   "execution_count": 4,
   "metadata": {},
   "outputs": [
    {
     "ename": "NameError",
     "evalue": "name 'gdp_cap' is not defined",
     "output_type": "error",
     "traceback": [
      "\u001b[0;31m---------------------------------------------------------------------------\u001b[0m",
      "\u001b[0;31mNameError\u001b[0m                                 Traceback (most recent call last)",
      "\u001b[0;32m<ipython-input-4-cb7b6dd9bcd0>\u001b[0m in \u001b[0;36m<module>\u001b[0;34m\u001b[0m\n\u001b[1;32m      1\u001b[0m \u001b[0;31m# Print the last item of gdp_cap and life_exp\u001b[0m\u001b[0;34m\u001b[0m\u001b[0;34m\u001b[0m\u001b[0;34m\u001b[0m\u001b[0m\n\u001b[0;32m----> 2\u001b[0;31m \u001b[0mprint\u001b[0m\u001b[0;34m(\u001b[0m\u001b[0mgdp_cap\u001b[0m\u001b[0;34m[\u001b[0m\u001b[0;34m-\u001b[0m\u001b[0;36m1\u001b[0m\u001b[0;34m]\u001b[0m\u001b[0;34m)\u001b[0m\u001b[0;34m\u001b[0m\u001b[0;34m\u001b[0m\u001b[0m\n\u001b[0m\u001b[1;32m      3\u001b[0m \u001b[0mprint\u001b[0m\u001b[0;34m(\u001b[0m\u001b[0mlife_exp\u001b[0m\u001b[0;34m[\u001b[0m\u001b[0;34m-\u001b[0m\u001b[0;36m1\u001b[0m\u001b[0;34m]\u001b[0m\u001b[0;34m)\u001b[0m\u001b[0;34m\u001b[0m\u001b[0;34m\u001b[0m\u001b[0m\n\u001b[1;32m      4\u001b[0m \u001b[0;34m\u001b[0m\u001b[0m\n\u001b[1;32m      5\u001b[0m \u001b[0;34m\u001b[0m\u001b[0m\n",
      "\u001b[0;31mNameError\u001b[0m: name 'gdp_cap' is not defined"
     ]
    }
   ],
   "source": [
    "# Print the last item of gdp_cap and life_exp\n",
    "print(gdp_cap[-1])\n",
    "print(life_exp[-1])\n",
    "\n",
    "\n",
    "# Make a line plot, gdp_cap on the x-axis, life_exp on the y-axis\n",
    "plt.plot(gdp_cap, life_exp)\n",
    "\n",
    "# Display the plot\n",
    "plt.show()"
   ]
  },
  {
   "cell_type": "code",
   "execution_count": null,
   "metadata": {},
   "outputs": [],
   "source": [
    "#Scatter Plot (1)"
   ]
  },
  {
   "cell_type": "code",
   "execution_count": null,
   "metadata": {},
   "outputs": [],
   "source": [
    "# Change the line plot below to a scatter plot\n",
    "plt.scatter(gdp_cap, life_exp)\n",
    "\n",
    "# Put the x-axis on a logarithmic scale\n",
    "plt.xscale('log')\n",
    "\n",
    "# Show plot\n",
    "plt.show()"
   ]
  },
  {
   "cell_type": "code",
   "execution_count": null,
   "metadata": {},
   "outputs": [],
   "source": [
    "# Import package\n",
    "import matplotlib.pyplot as plt\n",
    "\n",
    "# Build Scatter plot\n",
    "plt.scatter(pop, life_exp)\n",
    "\n",
    "# Show plot\n",
    "plt.show()"
   ]
  },
  {
   "cell_type": "code",
   "execution_count": null,
   "metadata": {},
   "outputs": [],
   "source": [
    "# Create histogram of life_exp data\n",
    "plt.hist(life_exp)\n",
    "\n",
    "# Display histogram\n",
    "plt.show()"
   ]
  },
  {
   "cell_type": "code",
   "execution_count": null,
   "metadata": {},
   "outputs": [],
   "source": [
    "# Build histogram with 5 bins\n",
    "plt.hist(life_exp,5)\n",
    "\n",
    "# Show and clean up plot\n",
    "plt.show()\n",
    "plt.clf()\n",
    "\n",
    "# Build histogram with 20 bins\n",
    "plt.hist(life_exp,20)\n",
    "\n",
    "# Show and clean up again\n",
    "plt.show()\n",
    "plt.clf()"
   ]
  },
  {
   "cell_type": "code",
   "execution_count": null,
   "metadata": {},
   "outputs": [],
   "source": [
    "# Histogram of life_exp, 15 bins\n",
    "plt.hist(life_exp,15)\n",
    "\n",
    "# Show and clear plot\n",
    "plt.show()\n",
    "plt.clf()\n",
    "\n",
    "# Histogram of life_exp1950, 15 bins\n",
    "plt.hist(life_exp1950,15)\n",
    "\n",
    "# Show and clear plot again\n",
    "plt.show()\n",
    "plt.clf()"
   ]
  },
  {
   "cell_type": "code",
   "execution_count": null,
   "metadata": {},
   "outputs": [],
   "source": [
    "# Customization\n"
   ]
  },
  {
   "cell_type": "code",
   "execution_count": null,
   "metadata": {},
   "outputs": [],
   "source": [
    "# labels"
   ]
  },
  {
   "cell_type": "code",
   "execution_count": null,
   "metadata": {},
   "outputs": [],
   "source": [
    "# Basic scatter plot, log scale\n",
    "plt.scatter(gdp_cap, life_exp)\n",
    "plt.xscale('log') \n",
    "\n",
    "# Strings\n",
    "xlab = 'GDP per Capita [in USD]'\n",
    "ylab = 'Life Expectancy [in years]'\n",
    "title = 'World Development in 2007'\n",
    "\n",
    "# Add axis labels\n",
    "plt.xlabel(xlab)\n",
    "plt.ylabel(ylab)\n",
    "\n",
    "\n",
    "# Add title\n",
    "plt.title(title)\n",
    "\n",
    "# After customizing, display the plot\n",
    "plt.show()"
   ]
  },
  {
   "cell_type": "code",
   "execution_count": null,
   "metadata": {},
   "outputs": [],
   "source": [
    "# Scatter plot\n",
    "plt.scatter(gdp_cap, life_exp)\n",
    "\n",
    "# Previous customizations\n",
    "plt.xscale('log') \n",
    "plt.xlabel('GDP per Capita [in USD]')\n",
    "plt.ylabel('Life Expectancy [in years]')\n",
    "plt.title('World Development in 2007')\n",
    "\n",
    "# Definition of tick_val and tick_lab\n",
    "tick_val = [1000, 10000, 100000]\n",
    "tick_lab = ['1k', '10k', '100k']\n",
    "\n",
    "# Adapt the ticks on the x-axis\n",
    "plt.xticks(tick_val, tick_lab)\n",
    "\n",
    "# After customizing, display the plot\n",
    "plt.show()"
   ]
  },
  {
   "cell_type": "code",
   "execution_count": null,
   "metadata": {},
   "outputs": [],
   "source": [
    "#Size"
   ]
  },
  {
   "cell_type": "code",
   "execution_count": null,
   "metadata": {},
   "outputs": [],
   "source": [
    "# Import numpy as np\n",
    "import numpy as np\n",
    "\n",
    "# Store pop as a numpy array: np_pop\n",
    "np_pop = np.array(pop)\n",
    "\n",
    "# Double np_pop\n",
    "np_pop = np_pop * 2\n",
    "\n",
    "# Update: set s argument to np_pop\n",
    "plt.scatter(gdp_cap, life_exp, s = np_pop)\n",
    "\n",
    "# Previous customizations\n",
    "plt.xscale('log') \n",
    "plt.xlabel('GDP per Capita [in USD]')\n",
    "plt.ylabel('Life Expectancy [in years]')\n",
    "plt.title('World Development in 2007')\n",
    "plt.xticks([1000, 10000, 100000],['1k', '10k', '100k'])\n",
    "\n",
    "# Display the plot\n",
    "plt.show()"
   ]
  },
  {
   "cell_type": "code",
   "execution_count": null,
   "metadata": {},
   "outputs": [],
   "source": [
    "#color\n",
    "# Specify c and alpha inside plt.scatter()\n",
    "plt.scatter(x = gdp_cap, y = life_exp, s = np.array(pop) * 2, c = col, alpha = 0.8)\n",
    "\n",
    "# Previous customizations\n",
    "plt.xscale('log') \n",
    "plt.xlabel('GDP per Capita [in USD]')\n",
    "plt.ylabel('Life Expectancy [in years]')\n",
    "plt.title('World Development in 2007')\n",
    "plt.xticks([1000,10000,100000], ['1k','10k','100k'])\n",
    "\n",
    "# Show the plot\n",
    "plt.show()"
   ]
  },
  {
   "cell_type": "code",
   "execution_count": null,
   "metadata": {},
   "outputs": [],
   "source": [
    "# additional customization"
   ]
  },
  {
   "cell_type": "code",
   "execution_count": null,
   "metadata": {},
   "outputs": [],
   "source": [
    "# Scatter plot\n",
    "plt.scatter(x = gdp_cap, y = life_exp, s = np.array(pop) * 2, c = col, alpha = 0.8)\n",
    "\n",
    "# Previous customizations\n",
    "plt.xscale('log') \n",
    "plt.xlabel('GDP per Capita [in USD]')\n",
    "plt.ylabel('Life Expectancy [in years]')\n",
    "plt.title('World Development in 2007')\n",
    "plt.xticks([1000,10000,100000], ['1k','10k','100k'])\n",
    "\n",
    "# Additional customizations\n",
    "plt.text(1550, 71, 'India')\n",
    "plt.text(5700, 80, 'China')\n",
    "\n",
    "# Add grid() call\n",
    "plt.grid(True)\n",
    "\n",
    "# Show the plot\n",
    "plt.show()"
   ]
  },
  {
   "cell_type": "code",
   "execution_count": null,
   "metadata": {},
   "outputs": [],
   "source": [
    "# Dictionaries, Part 1\n"
   ]
  },
  {
   "cell_type": "code",
   "execution_count": 1,
   "metadata": {},
   "outputs": [
    {
     "name": "stdout",
     "output_type": "stream",
     "text": [
      "berlin\n"
     ]
    }
   ],
   "source": [
    "# Definition of countries and capital\n",
    "countries = ['spain', 'france', 'germany', 'norway']\n",
    "capitals = ['madrid', 'paris', 'berlin', 'oslo']\n",
    "\n",
    "# Get index of 'germany': ind_ger\n",
    "ind_ger = countries.index('germany')\n",
    "\n",
    "# Use ind_ger to print out capital of Germany\n",
    "print(capitals[ind_ger])"
   ]
  },
  {
   "cell_type": "code",
   "execution_count": 5,
   "metadata": {},
   "outputs": [
    {
     "name": "stdout",
     "output_type": "stream",
     "text": [
      "{'spain': 'madrid', 'france': 'paris', 'germany': 'berlin', 'norway': 'oslo'}\n"
     ]
    }
   ],
   "source": [
    "# Definition of countries and capital\n",
    "countries = ['spain', 'france', 'germany', 'norway']\n",
    "capitals = ['madrid', 'paris', 'berlin', 'oslo']\n",
    "\n",
    "# From string in countries and capitals, create dictionary europe\n",
    "europe = { 'spain':'madrid', 'france':'paris', 'germany':'berlin', 'norway':'oslo' }\n",
    "\n",
    "# Print europe\n",
    "print(europe)"
   ]
  },
  {
   "cell_type": "code",
   "execution_count": 6,
   "metadata": {},
   "outputs": [
    {
     "name": "stdout",
     "output_type": "stream",
     "text": [
      "dict_keys(['spain', 'france', 'germany', 'norway'])\n",
      "oslo\n"
     ]
    }
   ],
   "source": [
    "# Definition of dictionary\n",
    "europe = {'spain':'madrid', 'france':'paris', 'germany':'berlin', 'norway':'oslo' }\n",
    "\n",
    "# Print out the keys in europe\n",
    "print(europe.keys())\n",
    "\n",
    "# Print out value that belongs to key 'norway'\n",
    "print(europe['norway'])"
   ]
  },
  {
   "cell_type": "code",
   "execution_count": null,
   "metadata": {},
   "outputs": [],
   "source": [
    "#Dictionary Manipulation (1)"
   ]
  },
  {
   "cell_type": "code",
   "execution_count": 3,
   "metadata": {},
   "outputs": [
    {
     "name": "stdout",
     "output_type": "stream",
     "text": [
      "True\n",
      "{'spain': 'madrid', 'france': 'paris', 'germany': 'berlin', 'norway': 'oslo', 'italy': 'rome', 'poland': 'warsaw'}\n"
     ]
    }
   ],
   "source": [
    "# Definition of dictionary\n",
    "europe = {'spain':'madrid', 'france':'paris', 'germany':'berlin', 'norway':'oslo' }\n",
    "\n",
    "# Add italy to europe\n",
    "europe['italy'] = 'rome'\n",
    "\n",
    "# Print out italy in europe\n",
    "print('italy' in europe)\n",
    "\n",
    "# Add poland to europe\n",
    "europe['poland'] = 'warsaw'\n",
    "\n",
    "# Print europe\n",
    "print(europe)"
   ]
  },
  {
   "cell_type": "code",
   "execution_count": null,
   "metadata": {},
   "outputs": [],
   "source": [
    "#Dictionary Manipulation (2)"
   ]
  },
  {
   "cell_type": "code",
   "execution_count": 7,
   "metadata": {},
   "outputs": [
    {
     "name": "stdout",
     "output_type": "stream",
     "text": [
      "{'spain': 'madrid', 'france': 'paris', 'germany': 'berlin', 'norway': 'oslo', 'italy': 'rome', 'poland': 'warsaw'}\n"
     ]
    }
   ],
   "source": [
    "# Definition of dictionary\n",
    "europe = {'spain':'madrid', 'france':'paris', 'germany':'bonn',\n",
    "          'norway':'oslo', 'italy':'rome', 'poland':'warsaw',\n",
    "          'australia':'vienna' }\n",
    "\n",
    "# Update capital of germany\n",
    "europe['germany'] = 'berlin'\n",
    "\n",
    "# Remove australia\n",
    "del(europe['australia'])\n",
    "\n",
    "# Print europe\n",
    "print(europe)"
   ]
  },
  {
   "cell_type": "code",
   "execution_count": null,
   "metadata": {},
   "outputs": [],
   "source": [
    "#Dictionariception"
   ]
  },
  {
   "cell_type": "code",
   "execution_count": 4,
   "metadata": {},
   "outputs": [
    {
     "name": "stdout",
     "output_type": "stream",
     "text": [
      "paris\n",
      "{'spain': {'capital': 'madrid', 'population': 46.77}, 'france': {'capital': 'paris', 'population': 66.03}, 'germany': {'capital': 'berlin', 'population': 80.62}, 'norway': {'capital': 'oslo', 'population': 5.084}, 'italy': {'capital': 'rome', 'population': 59.83}}\n"
     ]
    }
   ],
   "source": [
    "# Dictionary of dictionaries\n",
    "europe = { 'spain': { 'capital':'madrid', 'population':46.77 },\n",
    "           'france': { 'capital':'paris', 'population':66.03 },\n",
    "           'germany': { 'capital':'berlin', 'population':80.62 },\n",
    "           'norway': { 'capital':'oslo', 'population':5.084 } }\n",
    "\n",
    "\n",
    "# Print out the capital of France\n",
    "print(europe['france']['capital'])\n",
    "\n",
    "# Create sub-dictionary data\n",
    "data = { 'capital':'rome', 'population':59.83 }\n",
    "\n",
    "# Add data to europe under key 'italy'\n",
    "europe['italy'] = data\n",
    "\n",
    "# Print europe\n",
    "print(europe)"
   ]
  },
  {
   "cell_type": "markdown",
   "metadata": {},
   "source": [
    "# Pandas, Part 1"
   ]
  },
  {
   "cell_type": "code",
   "execution_count": 5,
   "metadata": {},
   "outputs": [
    {
     "name": "stdout",
     "output_type": "stream",
     "text": [
      "         country  drives_right  cars_per_cap\n",
      "0  United States          True           809\n",
      "1      Australia         False           731\n",
      "2          Japan         False           588\n",
      "3          India         False            18\n",
      "4         Russia          True           200\n",
      "5        Morocco          True            70\n",
      "6          Egypt          True            45\n"
     ]
    }
   ],
   "source": [
    "# Pre-defined lists\n",
    "names = ['United States', 'Australia', 'Japan', 'India', 'Russia', 'Morocco', 'Egypt']\n",
    "dr =  [True, False, False, False, True, True, True]\n",
    "cpc = [809, 731, 588, 18, 200, 70, 45]\n",
    "\n",
    "# Import pandas as pd\n",
    "import pandas as pd \n",
    "\n",
    "# Create dictionary my_dict with three key:value pairs: my_dict\n",
    "my_dict = {\"country\": names, 'drives_right': dr, 'cars_per_cap': cpc}\n",
    "\n",
    "# Build a DataFrame cars from my_dict: cars\n",
    "cars = pd.DataFrame(my_dict)\n",
    "\n",
    "# Print cars\n",
    "print(cars)"
   ]
  },
  {
   "cell_type": "code",
   "execution_count": 8,
   "metadata": {},
   "outputs": [
    {
     "name": "stdout",
     "output_type": "stream",
     "text": [
      "         country  drives_right  cars_per_cap\n",
      "0  United States          True           809\n",
      "1      Australia         False           731\n",
      "2          Japan         False           588\n",
      "3          India         False            18\n",
      "4         Russia          True           200\n",
      "5        Morocco          True            70\n",
      "6          Egypt          True            45\n",
      "           country  drives_right  cars_per_cap\n",
      "US   United States          True           809\n",
      "AUS      Australia         False           731\n",
      "JAP          Japan         False           588\n",
      "IN           India         False            18\n",
      "RU          Russia          True           200\n",
      "MOR        Morocco          True            70\n",
      "EG           Egypt          True            45\n"
     ]
    }
   ],
   "source": [
    "import pandas as pd\n",
    "\n",
    "# Build cars DataFrame\n",
    "names = ['United States', 'Australia', 'Japan', 'India', 'Russia', 'Morocco', 'Egypt']\n",
    "dr =  [True, False, False, False, True, True, True]\n",
    "cpc = [809, 731, 588, 18, 200, 70, 45]\n",
    "dict = { 'country':names, 'drives_right':dr, 'cars_per_cap':cpc }\n",
    "cars = pd.DataFrame(dict)\n",
    "print(cars)\n",
    "\n",
    "# Definition of row_labels\n",
    "row_labels = ['US', 'AUS', 'JAP', 'IN', 'RU', 'MOR', 'EG']\n",
    "\n",
    "# Specify row labels of cars\n",
    "cars.index = row_labels\n",
    "\n",
    "# Print cars again\n",
    "print(cars)"
   ]
  },
  {
   "cell_type": "code",
   "execution_count": null,
   "metadata": {},
   "outputs": [],
   "source": [
    "# CSV to DataFrame (1)"
   ]
  },
  {
   "cell_type": "code",
   "execution_count": 13,
   "metadata": {},
   "outputs": [
    {
     "name": "stdout",
     "output_type": "stream",
     "text": [
      "     cars_per_cap        country  drives_right\n",
      "US            809  United States          True\n",
      "AUS           731      Australia         False\n",
      "JAP           588          Japan         False\n",
      "IN             18          India         False\n",
      "RU            200         Russia          True\n",
      "MOR            70        Morocco          True\n",
      "EG             45          Egypt          True\n"
     ]
    }
   ],
   "source": [
    "# Import pandas as pd\n",
    "import pandas as pd\n",
    "\n",
    "# Import the cars.csv data: cars\n",
    "cars = pd.read_csv(\"/Users/yd/Documents/Python/data for python/cars.csv\", index_col=0)\n",
    "\n",
    "# Print out cars\n",
    "print(cars)"
   ]
  },
  {
   "cell_type": "code",
   "execution_count": 13,
   "metadata": {},
   "outputs": [
    {
     "name": "stdout",
     "output_type": "stream",
     "text": [
      "     cars_per_cap        country  drives_right\n",
      "US            809  United States          True\n",
      "AUS           731      Australia         False\n",
      "JAP           588          Japan         False\n",
      "IN             18          India         False\n",
      "RU            200         Russia          True\n",
      "MOR            70        Morocco          True\n",
      "EG             45          Egypt          True\n"
     ]
    }
   ],
   "source": [
    "# Import pandas as pd\n",
    "import pandas as pd\n",
    "\n",
    "# Import the cars.csv data: cars\n",
    "cars = pd.read_csv(\"https://www.dropbox.com/s/cj1jl6n3anlfpw2/cars.csv?dl=1\", index_col=0)\n",
    "\n",
    "# Print out cars\n",
    "print(cars)"
   ]
  },
  {
   "cell_type": "code",
   "execution_count": null,
   "metadata": {},
   "outputs": [],
   "source": [
    "#Pandas, Part 2\n"
   ]
  },
  {
   "cell_type": "code",
   "execution_count": null,
   "metadata": {},
   "outputs": [],
   "source": [
    "# Square Brackets (1)"
   ]
  },
  {
   "cell_type": "code",
   "execution_count": 2,
   "metadata": {},
   "outputs": [
    {
     "name": "stdout",
     "output_type": "stream",
     "text": [
      "US     United States\n",
      "AUS        Australia\n",
      "JAP            Japan\n",
      "IN             India\n",
      "RU            Russia\n",
      "MOR          Morocco\n",
      "EG             Egypt\n",
      "Name: country, dtype: object\n",
      "           country\n",
      "US   United States\n",
      "AUS      Australia\n",
      "JAP          Japan\n",
      "IN           India\n",
      "RU          Russia\n",
      "MOR        Morocco\n",
      "EG           Egypt\n",
      "           country  drives_right\n",
      "US   United States          True\n",
      "AUS      Australia         False\n",
      "JAP          Japan         False\n",
      "IN           India         False\n",
      "RU          Russia          True\n",
      "MOR        Morocco          True\n",
      "EG           Egypt          True\n"
     ]
    }
   ],
   "source": [
    "# Import pandas as pd\n",
    "import pandas as pd\n",
    "\n",
    "# Import the cars.csv data: cars\n",
    "cars = pd.read_csv(\"https://www.dropbox.com/s/cj1jl6n3anlfpw2/cars.csv?dl=1\", index_col=0)\n",
    "\n",
    "# Print out country column as Pandas Series\n",
    "print(cars['country'])\n",
    "\n",
    "# Print out country column as Pandas DataFrame\n",
    "print(cars[['country']])\n",
    "\n",
    "# Print out DataFrame with country and drives_right columns\n",
    "print(cars[['country', 'drives_right']])"
   ]
  },
  {
   "cell_type": "code",
   "execution_count": 3,
   "metadata": {},
   "outputs": [
    {
     "name": "stdout",
     "output_type": "stream",
     "text": [
      "     cars_per_cap        country  drives_right\n",
      "US            809  United States          True\n",
      "AUS           731      Australia         False\n",
      "JAP           588          Japan         False\n",
      "     cars_per_cap  country  drives_right\n",
      "IN             18    India         False\n",
      "RU            200   Russia          True\n",
      "MOR            70  Morocco          True\n"
     ]
    }
   ],
   "source": [
    "# Print out first 3 observations\n",
    "print(cars[0:3])\n",
    "\n",
    "# Print out fourth, fifth and sixth observation\n",
    "print(cars[3:6])"
   ]
  },
  {
   "cell_type": "code",
   "execution_count": null,
   "metadata": {},
   "outputs": [],
   "source": [
    "# loc and iloc (1)"
   ]
  },
  {
   "cell_type": "code",
   "execution_count": 4,
   "metadata": {},
   "outputs": [
    {
     "name": "stdout",
     "output_type": "stream",
     "text": [
      "cars_per_cap      588\n",
      "country         Japan\n",
      "drives_right    False\n",
      "Name: JAP, dtype: object\n",
      "     cars_per_cap    country  drives_right\n",
      "AUS           731  Australia         False\n",
      "EG             45      Egypt          True\n"
     ]
    }
   ],
   "source": [
    "\n",
    "# Print out observation for Japan\n",
    "print(cars.loc['JAP'])\n",
    "\n",
    "# Print out observations for Australia and Egypt\n",
    "print(cars.loc[['AUS', 'EG']])"
   ]
  },
  {
   "cell_type": "code",
   "execution_count": null,
   "metadata": {},
   "outputs": [],
   "source": [
    "#loc and iloc (2)"
   ]
  },
  {
   "cell_type": "code",
   "execution_count": 9,
   "metadata": {},
   "outputs": [
    {
     "name": "stdout",
     "output_type": "stream",
     "text": [
      "18\n"
     ]
    }
   ],
   "source": [
    "print(cars.loc['IN', 'cars_per_cap'])"
   ]
  },
  {
   "cell_type": "code",
   "execution_count": 10,
   "metadata": {},
   "outputs": [
    {
     "name": "stdout",
     "output_type": "stream",
     "text": [
      "True\n",
      "     country  drives_right\n",
      "RU    Russia          True\n",
      "MOR  Morocco          True\n"
     ]
    }
   ],
   "source": [
    "# Print out drives_right value of Morocco\n",
    "print(cars.loc['MOR', 'drives_right'])\n",
    "\n",
    "# Print sub-DataFrame\n",
    "print(cars.loc[['RU', 'MOR'], ['country', 'drives_right']])"
   ]
  },
  {
   "cell_type": "code",
   "execution_count": null,
   "metadata": {},
   "outputs": [],
   "source": [
    "#loc and iloc (3)"
   ]
  },
  {
   "cell_type": "code",
   "execution_count": 11,
   "metadata": {},
   "outputs": [
    {
     "name": "stdout",
     "output_type": "stream",
     "text": [
      "US      True\n",
      "AUS    False\n",
      "JAP    False\n",
      "IN     False\n",
      "RU      True\n",
      "MOR     True\n",
      "EG      True\n",
      "Name: drives_right, dtype: bool\n",
      "     drives_right\n",
      "US           True\n",
      "AUS         False\n",
      "JAP         False\n",
      "IN          False\n",
      "RU           True\n",
      "MOR          True\n",
      "EG           True\n",
      "     cars_per_cap  drives_right\n",
      "US            809          True\n",
      "AUS           731         False\n",
      "JAP           588         False\n",
      "IN             18         False\n",
      "RU            200          True\n",
      "MOR            70          True\n",
      "EG             45          True\n"
     ]
    }
   ],
   "source": [
    "# Print out drives_right column as Series\n",
    "print(cars.loc[:, 'drives_right'])\n",
    "\n",
    "# Print out drives_right column as DataFrame\n",
    "print(cars.iloc[:, [2]])\n",
    "\n",
    "# Print out cars_per_cap and drives_right as DataFrame\n",
    "print(cars.loc[:, [ 'cars_per_cap', 'drives_right']])"
   ]
  },
  {
   "cell_type": "code",
   "execution_count": null,
   "metadata": {},
   "outputs": [],
   "source": [
    "# ch3. Comparison Operators\n"
   ]
  },
  {
   "cell_type": "code",
   "execution_count": null,
   "metadata": {},
   "outputs": [],
   "source": [
    "#Equality"
   ]
  },
  {
   "cell_type": "code",
   "execution_count": 12,
   "metadata": {},
   "outputs": [
    {
     "name": "stdout",
     "output_type": "stream",
     "text": [
      "False\n",
      "True\n",
      "False\n",
      "True\n"
     ]
    }
   ],
   "source": [
    "# Comparison of booleans\n",
    "print(True == False)\n",
    "\n",
    "# Comparison of integers\n",
    "print(-5 * 15 != 75)\n",
    "\n",
    "# Comparison of strings\n",
    "print(\"pyscript\" == \"PyScript\")\n",
    "\n",
    "# Compare a boolean with a numeric\n",
    "print(True == 1)"
   ]
  },
  {
   "cell_type": "code",
   "execution_count": 13,
   "metadata": {},
   "outputs": [
    {
     "name": "stdout",
     "output_type": "stream",
     "text": [
      "False\n",
      "True\n",
      "True\n"
     ]
    }
   ],
   "source": [
    "# Comparison of integers\n",
    "x = -3 * 6\n",
    "print(x >= -10)\n",
    "\n",
    "# Comparison of strings\n",
    "y = \"test\"\n",
    "print(\"test\" <= y)\n",
    "\n",
    "# Comparison of booleans\n",
    "print(True > False)"
   ]
  },
  {
   "cell_type": "code",
   "execution_count": 14,
   "metadata": {},
   "outputs": [
    {
     "name": "stdout",
     "output_type": "stream",
     "text": [
      "[ True  True False False]\n",
      "[False  True  True False]\n"
     ]
    }
   ],
   "source": [
    "# Compare arrays\n",
    "# Create arrays\n",
    "import numpy as np\n",
    "my_house = np.array([18.0, 20.0, 10.75, 9.50])\n",
    "your_house = np.array([14.0, 24.0, 14.25, 9.0])\n",
    "\n",
    "# my_house greater than or equal to 18\n",
    "print(my_house>=18)\n",
    "\n",
    "# my_house less than your_house\n",
    "print(my_house<your_house)"
   ]
  },
  {
   "cell_type": "code",
   "execution_count": null,
   "metadata": {},
   "outputs": [],
   "source": [
    "# Boolean Operators"
   ]
  },
  {
   "cell_type": "code",
   "execution_count": null,
   "metadata": {},
   "outputs": [],
   "source": [
    "# and, or, not (1)"
   ]
  },
  {
   "cell_type": "code",
   "execution_count": 15,
   "metadata": {},
   "outputs": [
    {
     "name": "stdout",
     "output_type": "stream",
     "text": [
      "False\n",
      "True\n",
      "True\n"
     ]
    }
   ],
   "source": [
    "# Define variables\n",
    "my_kitchen = 18.0\n",
    "your_kitchen = 14.0\n",
    "\n",
    "# my_kitchen bigger than 10 and smaller than 18?\n",
    "print(my_kitchen>10 and my_kitchen< 18)\n",
    "\n",
    "# my_kitchen smaller than 14 or bigger than 17?\n",
    "print(my_kitchen<14 or my_kitchen> 17)\n",
    "\n",
    "# Double my_kitchen smaller than triple your_kitchen?\n",
    "print(my_kitchen*2<your_kitchen*3)"
   ]
  },
  {
   "cell_type": "code",
   "execution_count": null,
   "metadata": {},
   "outputs": [],
   "source": [
    "#Boolean operators with Numpy"
   ]
  },
  {
   "cell_type": "code",
   "execution_count": 16,
   "metadata": {},
   "outputs": [
    {
     "name": "stdout",
     "output_type": "stream",
     "text": [
      "[False  True False  True]\n",
      "[False False False  True]\n"
     ]
    }
   ],
   "source": [
    "# Create arrays\n",
    "import numpy as np\n",
    "my_house = np.array([18.0, 20.0, 10.75, 9.50])\n",
    "your_house = np.array([14.0, 24.0, 14.25, 9.0])\n",
    "\n",
    "# my_house greater than 18.5 or smaller than 10\n",
    "print(np.logical_or(my_house>18.5, my_house<10))\n",
    "\n",
    "# Both my_house and your_house smaller than 11\n",
    "print(np.logical_and(my_house<11, your_house<11))"
   ]
  },
  {
   "cell_type": "code",
   "execution_count": null,
   "metadata": {},
   "outputs": [],
   "source": [
    "# if, elif, else\n"
   ]
  },
  {
   "cell_type": "code",
   "execution_count": 17,
   "metadata": {},
   "outputs": [
    {
     "name": "stdout",
     "output_type": "stream",
     "text": [
      "looking around in the kitchen.\n"
     ]
    }
   ],
   "source": [
    "# Define variables\n",
    "room = \"kit\"\n",
    "area = 14.0\n",
    "\n",
    "# if statement for room\n",
    "if room == \"kit\" :\n",
    "    print(\"looking around in the kitchen.\")\n",
    "\n",
    "# if statement for area\n",
    "if area > 15:\n",
    "    print(\"big place!\")"
   ]
  },
  {
   "cell_type": "code",
   "execution_count": null,
   "metadata": {},
   "outputs": [],
   "source": []
  },
  {
   "cell_type": "code",
   "execution_count": 18,
   "metadata": {},
   "outputs": [
    {
     "name": "stdout",
     "output_type": "stream",
     "text": [
      "looking around in the kitchen.\n",
      "pretty small.\n"
     ]
    }
   ],
   "source": [
    "# Define variables\n",
    "room = \"kit\"\n",
    "area = 14.0\n",
    "\n",
    "# if-else construct for room\n",
    "if room == \"kit\" :\n",
    "    print(\"looking around in the kitchen.\")\n",
    "else :\n",
    "    print(\"looking around elsewhere.\")\n",
    "\n",
    "# if-else construct for area :\n",
    "if area > 15 :\n",
    "    print(\"big place!\")\n",
    "else :\n",
    "    print(\"pretty small.\")"
   ]
  },
  {
   "cell_type": "code",
   "execution_count": null,
   "metadata": {},
   "outputs": [],
   "source": [
    "#Customize further: elif"
   ]
  },
  {
   "cell_type": "code",
   "execution_count": 19,
   "metadata": {},
   "outputs": [
    {
     "name": "stdout",
     "output_type": "stream",
     "text": [
      "looking around in the bedroom.\n",
      "medium size, nice!\n"
     ]
    }
   ],
   "source": [
    "# Define variables\n",
    "room = \"bed\"\n",
    "area = 14.0\n",
    "\n",
    "# if-elif-else construct for room\n",
    "if room == \"kit\" :\n",
    "    print(\"looking around in the kitchen.\")\n",
    "elif room == \"bed\":\n",
    "    print(\"looking around in the bedroom.\")\n",
    "else :\n",
    "    print(\"looking around elsewhere.\")\n",
    "\n",
    "# if-elif-else construct for area\n",
    "if area > 15 :\n",
    "    print(\"big place!\")\n",
    "elif area> 10:\n",
    "    print(\"medium size, nice!\")\n",
    "else :\n",
    "    print(\"pretty small.\")"
   ]
  },
  {
   "cell_type": "code",
   "execution_count": null,
   "metadata": {},
   "outputs": [],
   "source": [
    "# Filtering Pandas DataFrame\n"
   ]
  },
  {
   "cell_type": "code",
   "execution_count": null,
   "metadata": {},
   "outputs": [],
   "source": [
    "# Driving right (1)"
   ]
  },
  {
   "cell_type": "code",
   "execution_count": 21,
   "metadata": {},
   "outputs": [
    {
     "name": "stdout",
     "output_type": "stream",
     "text": [
      "     cars_per_cap        country  drives_right\n",
      "US            809  United States          True\n",
      "RU            200         Russia          True\n",
      "MOR            70        Morocco          True\n",
      "EG             45          Egypt          True\n"
     ]
    }
   ],
   "source": [
    "\n",
    "\n",
    "# Extract drives_right column as Series: dr\n",
    "dr = cars['drives_right']==True\n",
    "\n",
    "# Use dr to subset cars: sel\n",
    "sel = cars[dr]\n",
    "\n",
    "# Print sel\n",
    "print(sel)"
   ]
  },
  {
   "cell_type": "code",
   "execution_count": null,
   "metadata": {},
   "outputs": [],
   "source": [
    "# Driving right (2)"
   ]
  },
  {
   "cell_type": "code",
   "execution_count": 22,
   "metadata": {},
   "outputs": [
    {
     "name": "stdout",
     "output_type": "stream",
     "text": [
      "     cars_per_cap        country  drives_right\n",
      "US            809  United States          True\n",
      "RU            200         Russia          True\n",
      "MOR            70        Morocco          True\n",
      "EG             45          Egypt          True\n"
     ]
    }
   ],
   "source": [
    "# Convert code to a one-liner\n",
    "sel = cars[cars['drives_right']==True]\n",
    "\n",
    "# Print sel\n",
    "print(sel)"
   ]
  },
  {
   "cell_type": "code",
   "execution_count": null,
   "metadata": {},
   "outputs": [],
   "source": [
    "# Cars per capita (1)"
   ]
  },
  {
   "cell_type": "code",
   "execution_count": 23,
   "metadata": {},
   "outputs": [
    {
     "name": "stdout",
     "output_type": "stream",
     "text": [
      "     cars_per_cap        country  drives_right\n",
      "US            809  United States          True\n",
      "AUS           731      Australia         False\n",
      "JAP           588          Japan         False\n"
     ]
    }
   ],
   "source": [
    "# Create car_maniac: observations that have a cars_per_cap over 500\n",
    "car_maniac = cars[cars['cars_per_cap']>500]\n",
    "\n",
    "\n",
    "\n",
    "# Print car_maniac\n",
    "print(car_maniac)"
   ]
  },
  {
   "cell_type": "code",
   "execution_count": null,
   "metadata": {},
   "outputs": [],
   "source": [
    "#Cars per capita (2)"
   ]
  },
  {
   "cell_type": "code",
   "execution_count": 24,
   "metadata": {},
   "outputs": [
    {
     "name": "stdout",
     "output_type": "stream",
     "text": [
      "    cars_per_cap country  drives_right\n",
      "RU           200  Russia          True\n"
     ]
    }
   ],
   "source": [
    "# Import numpy, you'll need this\n",
    "import numpy as np\n",
    "\n",
    "# Create medium: observations with cars_per_cap between 100 and 500\n",
    "medium = cars[np.logical_and(cars['cars_per_cap']>100, cars['cars_per_cap']<500)]\n",
    "\n",
    "\n",
    "\n",
    "# Print medium\n",
    "print(medium)"
   ]
  },
  {
   "cell_type": "code",
   "execution_count": null,
   "metadata": {},
   "outputs": [],
   "source": [
    "# while loop\n"
   ]
  },
  {
   "cell_type": "code",
   "execution_count": 25,
   "metadata": {},
   "outputs": [
    {
     "name": "stdout",
     "output_type": "stream",
     "text": [
      "correcting...\n",
      "7\n",
      "correcting...\n",
      "6\n",
      "correcting...\n",
      "5\n",
      "correcting...\n",
      "4\n",
      "correcting...\n",
      "3\n",
      "correcting...\n",
      "2\n",
      "correcting...\n",
      "1\n",
      "correcting...\n",
      "0\n"
     ]
    }
   ],
   "source": [
    "# Initialize offset\n",
    "offset = 8\n",
    "\n",
    "\n",
    "# Code the while loop\n",
    "while offset != 0:\n",
    "    print(\"correcting...\")\n",
    "    offset = offset - 1\n",
    "    print(offset)"
   ]
  },
  {
   "cell_type": "code",
   "execution_count": null,
   "metadata": {},
   "outputs": [],
   "source": [
    "#Add conditionals"
   ]
  },
  {
   "cell_type": "code",
   "execution_count": 26,
   "metadata": {},
   "outputs": [
    {
     "name": "stdout",
     "output_type": "stream",
     "text": [
      "correcting...\n",
      "-5\n",
      "correcting...\n",
      "-4\n",
      "correcting...\n",
      "-3\n",
      "correcting...\n",
      "-2\n",
      "correcting...\n",
      "-1\n",
      "correcting...\n",
      "0\n"
     ]
    }
   ],
   "source": [
    "# Initialize offset\n",
    "offset = -6\n",
    "\n",
    "# Code the while loop\n",
    "while offset != 0 :\n",
    "    print(\"correcting...\")\n",
    "    if offset > 0:\n",
    "        offset = offset - 1\n",
    "    else:\n",
    "        offset = offset + 1\n",
    "    print(offset)"
   ]
  },
  {
   "cell_type": "code",
   "execution_count": null,
   "metadata": {},
   "outputs": [],
   "source": [
    "# for loop"
   ]
  },
  {
   "cell_type": "code",
   "execution_count": 27,
   "metadata": {},
   "outputs": [
    {
     "name": "stdout",
     "output_type": "stream",
     "text": [
      "11.25\n",
      "18.0\n",
      "20.0\n",
      "10.75\n",
      "9.5\n"
     ]
    }
   ],
   "source": [
    "# areas list\n",
    "areas = [11.25, 18.0, 20.0, 10.75, 9.50]\n",
    "\n",
    "# Code the for loop\n",
    "for i in areas:\n",
    "    print(i)"
   ]
  },
  {
   "cell_type": "code",
   "execution_count": null,
   "metadata": {},
   "outputs": [],
   "source": [
    "#Indexes and values (1)"
   ]
  },
  {
   "cell_type": "code",
   "execution_count": null,
   "metadata": {},
   "outputs": [],
   "source": [
    "# areas list\n",
    "areas = [11.25, 18.0, 20.0, 10.75, 9.50]\n",
    "\n",
    "# Change for loop to use enumerate() and update print()\n",
    "for index, size in enumerate(areas) :\n",
    "    print(\"room \"+ str(index) + \": \" + str(size))"
   ]
  },
  {
   "cell_type": "code",
   "execution_count": null,
   "metadata": {},
   "outputs": [],
   "source": [
    "#Indexes and values (2)"
   ]
  },
  {
   "cell_type": "code",
   "execution_count": 28,
   "metadata": {},
   "outputs": [
    {
     "name": "stdout",
     "output_type": "stream",
     "text": [
      "room 1: 11.25\n",
      "room 2: 18.0\n",
      "room 3: 20.0\n",
      "room 4: 10.75\n",
      "room 5: 9.5\n"
     ]
    }
   ],
   "source": [
    "# areas list\n",
    "areas = [11.25, 18.0, 20.0, 10.75, 9.50]\n",
    "\n",
    "# Code the for loop\n",
    "for index, area in enumerate(areas) :\n",
    "    print(\"room \" + str(index+1) + \": \" + str(area))"
   ]
  },
  {
   "cell_type": "code",
   "execution_count": 29,
   "metadata": {},
   "outputs": [
    {
     "name": "stdout",
     "output_type": "stream",
     "text": [
      "the hallway is 11.25 sqm\n",
      "the kitchen is 18.0 sqm\n",
      "the living room is 20.0 sqm\n",
      "the bedroom is 10.75 sqm\n",
      "the bathroom is 9.5 sqm\n"
     ]
    }
   ],
   "source": [
    "# house list of lists\n",
    "house = [[\"hallway\", 11.25], \n",
    "         [\"kitchen\", 18.0], \n",
    "         [\"living room\", 20.0], \n",
    "         [\"bedroom\", 10.75], \n",
    "         [\"bathroom\", 9.50]]\n",
    "         \n",
    "# Build a for loop from scratch\n",
    "\n",
    "for i in house:\n",
    "    print(\"the \" + str(i[0])+ \" is\" + \" \" + str(i[1])+ \" sqm\")"
   ]
  },
  {
   "cell_type": "code",
   "execution_count": null,
   "metadata": {},
   "outputs": [],
   "source": [
    "#Looping Data Structures, Part 1\n"
   ]
  },
  {
   "cell_type": "code",
   "execution_count": null,
   "metadata": {},
   "outputs": [],
   "source": [
    "#Loop over dictionary"
   ]
  },
  {
   "cell_type": "code",
   "execution_count": 30,
   "metadata": {},
   "outputs": [
    {
     "name": "stdout",
     "output_type": "stream",
     "text": [
      "the capital of spain is madrid\n",
      "the capital of france is paris\n",
      "the capital of germany is berlin\n",
      "the capital of norway is oslo\n",
      "the capital of italy is rome\n",
      "the capital of poland is warsaw\n",
      "the capital of austria is vienna\n"
     ]
    }
   ],
   "source": [
    "# Definition of dictionary\n",
    "europe = {'spain':'madrid', 'france':'paris', 'germany':'berlin',\n",
    "          'norway':'oslo', 'italy':'rome', 'poland':'warsaw', 'austria':'vienna' }\n",
    "          \n",
    "# Iterate over europe\n",
    "for k, v in europe.items():\n",
    "    print (\"the capital of \" + k + \" is \" + v)"
   ]
  },
  {
   "cell_type": "code",
   "execution_count": null,
   "metadata": {},
   "outputs": [],
   "source": [
    "# need data\n",
    "# Import numpy as np\n",
    "import numpy as np\n",
    "\n",
    "# For loop over np_height\n",
    "for x in np.nditer(np_height):\n",
    "    print(str(x) + \" inches\")\n",
    "\n",
    "# For loop over np_baseball\n",
    "for x in np.nditer(np_baseball):\n",
    "    print(x)"
   ]
  },
  {
   "cell_type": "code",
   "execution_count": null,
   "metadata": {},
   "outputs": [],
   "source": [
    "#Looping Data Structures, Part 2"
   ]
  },
  {
   "cell_type": "code",
   "execution_count": null,
   "metadata": {},
   "outputs": [],
   "source": [
    "# Loop over DataFrame (1)"
   ]
  },
  {
   "cell_type": "code",
   "execution_count": 31,
   "metadata": {},
   "outputs": [
    {
     "name": "stdout",
     "output_type": "stream",
     "text": [
      "US\n",
      "cars_per_cap              809\n",
      "country         United States\n",
      "drives_right             True\n",
      "Name: US, dtype: object\n",
      "AUS\n",
      "cars_per_cap          731\n",
      "country         Australia\n",
      "drives_right        False\n",
      "Name: AUS, dtype: object\n",
      "JAP\n",
      "cars_per_cap      588\n",
      "country         Japan\n",
      "drives_right    False\n",
      "Name: JAP, dtype: object\n",
      "IN\n",
      "cars_per_cap       18\n",
      "country         India\n",
      "drives_right    False\n",
      "Name: IN, dtype: object\n",
      "RU\n",
      "cars_per_cap       200\n",
      "country         Russia\n",
      "drives_right      True\n",
      "Name: RU, dtype: object\n",
      "MOR\n",
      "cars_per_cap         70\n",
      "country         Morocco\n",
      "drives_right       True\n",
      "Name: MOR, dtype: object\n",
      "EG\n",
      "cars_per_cap       45\n",
      "country         Egypt\n",
      "drives_right     True\n",
      "Name: EG, dtype: object\n"
     ]
    }
   ],
   "source": [
    "# Import cars data\n",
    "import pandas as pd\n",
    "cars = pd.read_csv(\"C:/Users/yuand/Documents/data/cars.csv\", index_col=0)\n",
    "\n",
    "# Iterate over rows of cars\n",
    "for lab, row in cars.iterrows():\n",
    "    print(lab)\n",
    "    print(row)"
   ]
  },
  {
   "cell_type": "code",
   "execution_count": null,
   "metadata": {},
   "outputs": [],
   "source": [
    "#Loop over DataFrame (2)"
   ]
  },
  {
   "cell_type": "code",
   "execution_count": 33,
   "metadata": {},
   "outputs": [
    {
     "name": "stdout",
     "output_type": "stream",
     "text": [
      "US: 809\n",
      "AUS: 731\n",
      "JAP: 588\n",
      "IN: 18\n",
      "RU: 200\n",
      "MOR: 70\n",
      "EG: 45\n"
     ]
    }
   ],
   "source": [
    "# Import cars data\n",
    "\n",
    "# Adapt for loop\n",
    "for lab, row in cars.iterrows() :\n",
    "    print(lab + \": \" + str(row['cars_per_cap']))"
   ]
  },
  {
   "cell_type": "code",
   "execution_count": null,
   "metadata": {},
   "outputs": [],
   "source": [
    "#Add column (1)"
   ]
  },
  {
   "cell_type": "code",
   "execution_count": null,
   "metadata": {},
   "outputs": [],
   "source": [
    "# Import cars data\n",
    "import pandas as pd\n",
    "cars = pd.read_csv('cars.csv', index_col = 0)\n",
    "\n",
    "# Code for loop that adds COUNTRY column\n",
    "for lab, row in cars.iterrows() :\n",
    "    cars.loc[lab, \"COUNTRY\"] = row[\"country\"].upper()\n",
    "    \n",
    "# Print cars\n",
    "print(cars)"
   ]
  },
  {
   "cell_type": "code",
   "execution_count": null,
   "metadata": {},
   "outputs": [],
   "source": [
    "#Add column (2)"
   ]
  },
  {
   "cell_type": "code",
   "execution_count": null,
   "metadata": {},
   "outputs": [],
   "source": [
    "# Import cars data\n",
    "import pandas as pd\n",
    "cars = pd.read_csv('cars.csv', index_col = 0)\n",
    "\n",
    "# Use .apply(str.upper)\n",
    "cars[\"COUNTRY\"] = cars['country'].apply(str.upper)\n",
    "\n",
    "print(cars)"
   ]
  },
  {
   "cell_type": "code",
   "execution_count": null,
   "metadata": {},
   "outputs": [],
   "source": [
    "# case study"
   ]
  },
  {
   "cell_type": "code",
   "execution_count": null,
   "metadata": {},
   "outputs": [],
   "source": [
    "# Import numpy as np\n",
    "import numpy as np\n",
    "\n",
    "# Set the seed\n",
    "np.random.seed(123)\n",
    "\n",
    "# Generate and print random float\n",
    "print(np.random.rand())"
   ]
  },
  {
   "cell_type": "code",
   "execution_count": 34,
   "metadata": {},
   "outputs": [
    {
     "name": "stdout",
     "output_type": "stream",
     "text": [
      "6\n",
      "3\n"
     ]
    }
   ],
   "source": [
    "#Roll the dice\n",
    "# Import numpy and set seed\n",
    "import numpy as np\n",
    "np.random.seed(123)\n",
    "\n",
    "# Use randint() to simulate a dice\n",
    "print(np.random.randint(1, 7))\n",
    "\n",
    "# Use randint() again\n",
    "print(np.random.randint(1, 7))"
   ]
  },
  {
   "cell_type": "code",
   "execution_count": null,
   "metadata": {},
   "outputs": [],
   "source": [
    "#Determine your next move"
   ]
  },
  {
   "cell_type": "code",
   "execution_count": null,
   "metadata": {},
   "outputs": [],
   "source": [
    "# Numpy is imported, seed is set\n",
    "\n",
    "# Starting step\n",
    "step = 50\n",
    "\n",
    "# Roll the dice\n",
    "dice = np.random.randint(1, 7)\n",
    "\n",
    "# Finish the control construct\n",
    "if dice <= 2 :\n",
    "    step = step - 1\n",
    "elif dice < 6:\n",
    "    step = step + 1\n",
    "else :\n",
    "    step = step + np.random.randint(1,7)\n",
    "\n",
    "# Print out dice and step\n",
    "print(str(dice) + \"\" str(step))"
   ]
  },
  {
   "cell_type": "code",
   "execution_count": null,
   "metadata": {},
   "outputs": [],
   "source": [
    "# random walk"
   ]
  },
  {
   "cell_type": "code",
   "execution_count": 35,
   "metadata": {},
   "outputs": [
    {
     "name": "stdout",
     "output_type": "stream",
     "text": [
      "[0, 1, 2, 1, 2, 3, 4, 3, 2, 1, 0, -1, -2, -3, -4, -3, 2, 1, 0, 1, 0, 1, 2, 3, 4, 5, 4, 5, 4, 5, 6, 7, 8, 7, 11, 12, 11, 12, 11, 12, 13, 14, 15, 16, 17, 18, 21, 22, 23, 24, 29, 30, 34, 35, 34, 35, 36, 35, 36, 37, 39, 40, 41, 40, 39, 40, 41, 40, 39, 40, 41, 43, 42, 41, 42, 41, 42, 43, 44, 46, 45, 46, 47, 48, 49, 50, 49, 48, 49, 48, 49, 50, 49, 52, 53, 54, 55, 54, 55, 56, 60]\n"
     ]
    }
   ],
   "source": [
    "# Numpy is imported, seed is set\n",
    "\n",
    "# Initialize random_walk\n",
    "random_walk = [0]\n",
    "\n",
    "# Complete the ___\n",
    "for x in range(100) :\n",
    "    # Set step: last element in random_walk\n",
    "    step = random_walk[-1]\n",
    "\n",
    "    # Roll the dice\n",
    "    dice = np.random.randint(1,7)\n",
    "\n",
    "    # Determine next step\n",
    "    if dice <= 2:\n",
    "        step = step - 1\n",
    "    elif dice <= 5:\n",
    "        step = step + 1\n",
    "    else:\n",
    "        step = step + np.random.randint(1,7)\n",
    "\n",
    "    # append next_step to random_walk\n",
    "    random_walk.append(step)\n",
    "\n",
    "# Print random_walk\n",
    "\n",
    "print(random_walk)"
   ]
  },
  {
   "cell_type": "code",
   "execution_count": 38,
   "metadata": {},
   "outputs": [
    {
     "name": "stdout",
     "output_type": "stream",
     "text": [
      "[0, 1, 0, 0, 0, 5, 6, 7, 6, 7, 8, 13, 12, 13, 14, 20, 19, 20, 21, 20, 21, 20, 21, 20, 21, 22, 21, 20, 21, 22, 23, 24, 25, 24, 25, 26, 27, 31, 30, 29, 34, 33, 34, 35, 36, 35, 36, 35, 36, 37, 41, 40, 41, 42, 43, 44, 45, 51, 52, 53, 52, 53, 54, 55, 56, 55, 54, 55, 56, 58, 59, 58, 59, 58, 62, 63, 66, 67, 68, 69, 73, 72, 71, 72, 73, 74, 73, 74, 75, 76, 77, 78, 77, 76, 75, 74, 73, 79, 78, 83, 82]\n"
     ]
    }
   ],
   "source": [
    "# How low can you go?\n",
    "# Numpy is imported, seed is set\n",
    "np.random.seed(23)\n",
    "# Initialize random_walk\n",
    "random_walk = [0]\n",
    "\n",
    "for x in range(100) :\n",
    "    step = random_walk[-1]\n",
    "    dice = np.random.randint(1,7)\n",
    "\n",
    "    if dice <= 2:\n",
    "        # Replace below: use max to make sure step can't go below 0\n",
    "        step = max(step - 1, 0)\n",
    "    elif dice <= 5:\n",
    "        step = step + 1\n",
    "    else:\n",
    "        step = step + np.random.randint(1,7)\n",
    "\n",
    "    random_walk.append(step)\n",
    "\n",
    "print(random_walk)"
   ]
  },
  {
   "cell_type": "code",
   "execution_count": 40,
   "metadata": {},
   "outputs": [
    {
     "data": {
      "image/png": "[encoded data removed]",
      "text/plain": [
       "<Figure size 432x288 with 1 Axes>"
      ]
     },
     "metadata": {
      "needs_background": "light"
     },
     "output_type": "display_data"
    }
   ],
   "source": [
    "# Visualize the walk\n",
    "\n",
    "# Numpy is imported, seed is set\n",
    "\n",
    "# Initialization\n",
    "random_walk = [0]\n",
    "\n",
    "for x in range(100) :\n",
    "    step = random_walk[-1]\n",
    "    dice = np.random.randint(1,7)\n",
    "\n",
    "    if dice <= 2:\n",
    "        step = max(0, step - 1)\n",
    "    elif dice <= 5:\n",
    "        step = step + 1\n",
    "    else:\n",
    "        step = step + np.random.randint(1,7)\n",
    "\n",
    "    random_walk.append(step)\n",
    "\n",
    "# Import matplotlib.pyplot as plt\n",
    "import matplotlib.pyplot as plt\n",
    "\n",
    "# Plot random_walk\n",
    "plt.plot(random_walk)\n",
    "\n",
    "# Show the plot\n",
    "plt.show()"
   ]
  },
  {
   "cell_type": "code",
   "execution_count": null,
   "metadata": {},
   "outputs": [],
   "source": [
    "# Distribution\n"
   ]
  },
  {
   "cell_type": "code",
   "execution_count": null,
   "metadata": {},
   "outputs": [],
   "source": [
    "# Simulate multiple walks"
   ]
  },
  {
   "cell_type": "code",
   "execution_count": 42,
   "metadata": {},
   "outputs": [],
   "source": [
    "# Numpy is imported; seed is set\n",
    "\n",
    "# Initialize all_walks\n",
    "all_walks = []\n",
    "\n",
    "# Simulate random walk 10 times\n",
    "for i in range(10) :\n",
    "\n",
    "    # Code from before\n",
    "    random_walk = [0]\n",
    "    for x in range(100) :\n",
    "        step = random_walk[-1]\n",
    "        dice = np.random.randint(1,7)\n",
    "\n",
    "        if dice <= 2:\n",
    "            step = max(0, step - 1)\n",
    "        elif dice <= 5:\n",
    "            step = step + 1\n",
    "        else:\n",
    "            step = step + np.random.randint(1,7)\n",
    "        random_walk.append(step)\n",
    "\n",
    "    # Append random_walk to all_walks\n",
    "    all_walks.append(random_walk)\n",
    "\n",
    "# Print all_walks\n",
    "# print(all_walks)"
   ]
  },
  {
   "cell_type": "code",
   "execution_count": null,
   "metadata": {},
   "outputs": [],
   "source": [
    "#Visualize all walks"
   ]
  },
  {
   "cell_type": "code",
   "execution_count": 43,
   "metadata": {},
   "outputs": [
    {
     "data": {
      "image/png": "[encoded data removed]",
      "text/plain": [
       "<Figure size 432x288 with 1 Axes>"
      ]
     },
     "metadata": {
      "needs_background": "light"
     },
     "output_type": "display_data"
    },
    {
     "data": {
      "image/png": "[encoded data removed]",
      "text/plain": [
       "<Figure size 432x288 with 1 Axes>"
      ]
     },
     "metadata": {
      "needs_background": "light"
     },
     "output_type": "display_data"
    }
   ],
   "source": [
    "# numpy and matplotlib imported, seed set.\n",
    "\n",
    "# initialize and populate all_walks\n",
    "all_walks = []\n",
    "for i in range(10) :\n",
    "    random_walk = [0]\n",
    "    for x in range(100) :\n",
    "        step = random_walk[-1]\n",
    "        dice = np.random.randint(1,7)\n",
    "        if dice <= 2:\n",
    "            step = max(0, step - 1)\n",
    "        elif dice <= 5:\n",
    "            step = step + 1\n",
    "        else:\n",
    "            step = step + np.random.randint(1,7)\n",
    "        random_walk.append(step)\n",
    "    all_walks.append(random_walk)\n",
    "\n",
    "# Convert all_walks to Numpy array: np_aw\n",
    "np_aw = np.array(all_walks)\n",
    "\n",
    "# Plot np_aw and show\n",
    "plt.plot(np_aw)\n",
    "plt.show()\n",
    "\n",
    "# Clear the figure\n",
    "plt.clf()\n",
    "\n",
    "# Transpose np_aw: np_aw_t\n",
    "np_aw_t = np.transpose(np_aw)\n",
    "\n",
    "# Plot np_aw_t and show\n",
    "plt.plot(np_aw_t)\n",
    "plt.show()"
   ]
  },
  {
   "cell_type": "code",
   "execution_count": 44,
   "metadata": {},
   "outputs": [
    {
     "data": {
      "image/png": "[encoded data removed]",
      "text/plain": [
       "<Figure size 432x288 with 1 Axes>"
      ]
     },
     "metadata": {
      "needs_background": "light"
     },
     "output_type": "display_data"
    }
   ],
   "source": [
    "#Implement clumsiness\n",
    "# numpy and matplotlib imported, seed set\n",
    "\n",
    "# Simulate random walk 250 times\n",
    "all_walks = []\n",
    "for i in range(250) :\n",
    "    random_walk = [0]\n",
    "    for x in range(100) :\n",
    "        step = random_walk[-1]\n",
    "        dice = np.random.randint(1,7)\n",
    "        if dice <= 2:\n",
    "            step = max(0, step - 1)\n",
    "        elif dice <= 5:\n",
    "            step = step + 1\n",
    "        else:\n",
    "            step = step + np.random.randint(1,7)\n",
    "\n",
    "        # Implement clumsiness\n",
    "        if np.random.rand()<= 0.001 :\n",
    "            step = 0\n",
    "\n",
    "        random_walk.append(step)\n",
    "    all_walks.append(random_walk)\n",
    "\n",
    "# Create and plot np_aw_t\n",
    "np_aw_t = np.transpose(np.array(all_walks))\n",
    "plt.plot(np_aw_t)\n",
    "plt.show()"
   ]
  },
  {
   "cell_type": "code",
   "execution_count": 52,
   "metadata": {},
   "outputs": [
    {
     "data": {
      "image/png": "[encoded data removed]",
      "text/plain": [
       "<Figure size 432x288 with 1 Axes>"
      ]
     },
     "metadata": {
      "needs_background": "light"
     },
     "output_type": "display_data"
    }
   ],
   "source": [
    "#Plot the distribution\n",
    "# numpy and matplotlib imported, seed set\n",
    "import numpy as np\n",
    "import matplotlib.pyplot as plt\n",
    "# Simulate random walk 500 times\n",
    "all_walks = []\n",
    "for i in range(500) :\n",
    "    random_walk = [0]\n",
    "    for x in range(100) :\n",
    "        step = random_walk[-1]\n",
    "        dice = np.random.randint(1,7)\n",
    "        if dice <= 2:\n",
    "            step = max(0, step - 1)\n",
    "        elif dice <= 5:\n",
    "            step = step + 1\n",
    "        else:\n",
    "            step = step + np.random.randint(1,7)\n",
    "        if np.random.rand() <= 0.001 :\n",
    "            step = 0\n",
    "        random_walk.append(step)\n",
    "    all_walks.append(random_walk)\n",
    "\n",
    "# Create and plot np_aw_t\n",
    "np_aw_t = np.transpose(np.array(all_walks))\n",
    "\n",
    "# Select last row from np_aw_t: ends\n",
    "ends = np_aw_t[-1,:]\n",
    "\n",
    "# Plot histogram of ends, display plot\n",
    "plt.hist(ends)\n",
    "plt.show()"
   ]
  },
  {
   "cell_type": "code",
   "execution_count": 53,
   "metadata": {},
   "outputs": [
    {
     "data": {
      "text/plain": [
       "0.776"
      ]
     },
     "execution_count": 53,
     "metadata": {},
     "output_type": "execute_result"
    }
   ],
   "source": [
    "np.mean(ends>60)"
   ]
  },
  {
   "cell_type": "code",
   "execution_count": null,
   "metadata": {},
   "outputs": [],
   "source": []
  },
  {
   "cell_type": "code",
   "execution_count": null,
   "metadata": {},
   "outputs": [],
   "source": []
  },
  {
   "cell_type": "code",
   "execution_count": null,
   "metadata": {},
   "outputs": [],
   "source": []
  },
  {
   "cell_type": "code",
   "execution_count": null,
   "metadata": {},
   "outputs": [],
   "source": []
  },
  {
   "cell_type": "code",
   "execution_count": null,
   "metadata": {},
   "outputs": [],
   "source": []
  },
  {
   "cell_type": "code",
   "execution_count": null,
   "metadata": {},
   "outputs": [],
   "source": []
  }
 ],
 "metadata": {
  "kernelspec": {
   "display_name": "Python 3",
   "language": "python",
   "name": "python3"
  },
  "language_info": {
   "codemirror_mode": {
    "name": "ipython",
    "version": 3
   },
   "file_extension": ".py",
   "mimetype": "text/x-python",
   "name": "python",
   "nbconvert_exporter": "python",
   "pygments_lexer": "ipython3",
   "version": "3.7.1"
  }
 },
 "nbformat": 4,
 "nbformat_minor": 2
}
